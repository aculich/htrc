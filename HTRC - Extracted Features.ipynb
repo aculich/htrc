{
 "cells": [
  {
   "cell_type": "markdown",
   "metadata": {},
   "source": [
    "# HathiTrust Research Center (HTRC)\n",
    "\n",
    "The [HathiTrust Digital Library](https://www.hathitrust.org/) contains over 14 million volumes scanned from academic libraries around the world (primarily in North America). The [HathiTrust Research Center](https://analytics.hathitrust.org/) allows researchers to access almost all of those texts in a few different modes for computational text analysis. \n",
    "\n",
    "This notebook will walk us through getting set-up to analyze [HTRC Extracted Features](https://wiki.htrc.illinois.edu/display/COM/Extracted+Features+Dataset) for volumes in HathiTrust in a Jupyter/Python environment. *Extracted Features* are currently (as of April 2017) the most robust way to access in-copyright works from the HT Library for computational analysis. \n",
    "\n",
    "For more information on HTRC: \n",
    "* [Library text mining guide page on HTRC](http://guides.lib.berkeley.edu/c.php?g=491766&p=3381443)\n",
    "* [Programming Historian's Text Mining in Python through the HTRC Feature Reader](http://programminghistorian.org/lessons/text-mining-with-extracted-features)\n",
    "\n",
    "## Installation\n",
    "\n",
    "To start we'll need to install a few things:\n",
    "* Install the *HTRC Feature Reader* to work with Extracted Features: \n",
    "```\n",
    "conda install -c htrc htrc-feature-reader\n",
    "``` \n",
    "or\n",
    "```\n",
    "pip install htrc-feature-reader\n",
    "pip install matplotlib jupyter\n",
    "```\n",
    "* Install Rsync to download Extracted Features from HathiTrust:\n",
    "\n",
    "  * For linux:\n",
    "```\n",
    "yum -y install rsync\n",
    "```\n",
    "  * For mac:\n",
    "```\n",
    "brew tap homebrew/dupes\n",
    "brew install rsync\n",
    "```\n",
    "\n",
    "## Add volumes from HTRC\n",
    "\n",
    "### Finding Volume IDs in HathiTrust\n",
    "\n",
    "To build your own corpus, you will need to find the volume ID for each volume you'd like to include from the [HathiTrust Library](https://www.hathitrust.org/).\n",
    "\n",
    "* Search for your book, and copy the URL from the *Limited (Search Only)* or *Full View* links under the work. <img src=\"files/judith-butler-ht.png\">\n",
    "* The final string of characters after the final / is your volume ID\n",
    "* For example, mdp.39015070698322 is the volume ID for \"https://hdl.handle.net/2027/mdp.39015070698322\"\n",
    "\n",
    "### Rsync the volumes\n",
    "\n",
    "Now that you've identified the volumes you'd like to use, you can run Rsync to pull down their Extracted Features for use with the HTRC Feature Reader.\n",
    "\n",
    "First, make your way to the directory where you plan to do your work.\n",
    "\n",
    "If you're planning to analyze only a few volumes you can use the following command, replacing {{volume_id}} with your own:\n",
    "```\n",
    "htid2rsync {{volume_id}} | rsync -azv --files-from=- data.sharc.hathitrust.org::features/ local-folder/\n",
    "```\n",
    "\n",
    "If you have a file of volume ids, one per line, use --from-file filename, or just -f filename.\n",
    "```\n",
    "htid2rsync --f volumeids.txt | rsync -azv --files-from=- data.sharc.hathitrust.org::features/ local-folder/\n",
    "```\n",
    "\n",
    "It's also possible to work with the entire library (4TB, so beware):\n",
    "```\n",
    "rsync -rv data.analytics.hathitrust.org::features/ .\n",
    "```\n",
    "\n",
    "Or to use existing lists of public-domain [fiction](http://data.analytics.hathitrust.org/genre/fiction_paths.txt), [drama](http://data.analytics.hathitrust.org/genre/drama_paths.txt), and [poetry](http://data.analytics.hathitrust.org/genre/poetry_paths.txt) (Underwood 2014).\n",
    "\n",
    "## Working with the Extracted Features\n",
    "\n",
    "In the example, below, we'll work with five volumes of the *Congressional Record* using IDs provided by HathiTrust. I've listed those IDs (randomly selected from a much larger list) in the file, cr_ids_5.txt.\n",
    "\n",
    "Let's download the extracted features for each of those five volumes:\n"
   ]
  },
  {
   "cell_type": "code",
   "execution_count": 50,
   "metadata": {
    "collapsed": false
   },
   "outputs": [
    {
     "name": "stdout",
     "output_type": "stream",
     "text": [
      "[sandbox] Welcome to the HathiTrust Research Center rsync server.\n",
      "\n",
      "receiving file list ... done\n",
      "\n",
      "sent 394 bytes  received 953 bytes  207.23 bytes/sec\n",
      "total size is 9192873  speedup is 6824.70\n"
     ]
    }
   ],
   "source": [
    "%%bash\n",
    "htid2rsync --f cr_ids_5.txt | rsync -azv --files-from=- data.sharc.hathitrust.org::features/ local-folder/"
   ]
  },
  {
   "cell_type": "markdown",
   "metadata": {},
   "source": [
    "All of the examples of code below are taken directly, or adapted, from the [Programming Historian tutorial](http://programminghistorian.org/lessons/text-mining-with-extracted-features) or the [FeatureReader's Readme.md file](https://github.com/htrc/htrc-feature-reader).\n",
    "\n",
    "You'll notice, from the output above, that the content for each volume is stored in a compressed JSON file, in a rather lengthy file directory. We can import and initialize FeatureReader with file paths pointing to the six JSON files (using the paths from the output above):"
   ]
  },
  {
   "cell_type": "code",
   "execution_count": 51,
   "metadata": {
    "collapsed": false
   },
   "outputs": [
    {
     "name": "stdout",
     "output_type": "stream",
     "text": [
      "chi.50170373 The Congressional globe.\n",
      "njp.32101076476215 Congressional record : proceedings and debates of the ... Congress.\n",
      "uc1.$c225189 Congressional record : proceedings and debates of the ... Congress.\n",
      "uiuo.ark:/13960/t7sn1rk4f Congressional record : proceedings and debates of the ... Congress.\n",
      "uva.x030515678 Congressional record : proceedings and debates of the ... Congress.\n"
     ]
    }
   ],
   "source": [
    "from htrc_features import FeatureReader\n",
    "import os\n",
    "paths = [os.path.join('local-folder', 'chi/pairtree_root/50/17/03/73/50170373/chi.50170373.json.bz2'), \n",
    "         os.path.join('local-folder', 'njp/pairtree_root/32/10/10/76/47/62/15/32101076476215/njp.32101076476215.json.bz2'), \n",
    "         os.path.join('local-folder', 'uc1/pairtree_root/$c/22/51/89/$c225189/uc1.$c225189.json.bz2'), \n",
    "         os.path.join('local-folder', 'uiuo/pairtree_root/ar/k+/=1/39/60/=t/7s/n1/rk/4f/ark+=13960=t7sn1rk4f/uiuo.ark+=13960=t7sn1rk4f.json.bz2'), \n",
    "         os.path.join('local-folder', 'uva/pairtree_root/x0/30/51/56/78/x030515678/uva.x030515678.json.bz2')]\n",
    "fr = FeatureReader(paths)\n",
    "for vol in fr.volumes():\n",
    "    print(vol.id, vol.title)"
   ]
  },
  {
   "cell_type": "markdown",
   "metadata": {},
   "source": [
    "These are pretty repetitive titles, which makes sense since they are from different volumes of the same serial title, though we can see that a volume of the *Congressional Globe*, an earlier version of the CR, is also included.\n",
    "\n",
    "Let's try to pull out some more metadata about these titles, using the [Volume object](http://htrc.github.io/htrc-feature-reader/htrc_features/feature_reader.m.html#htrc_features.feature_reader.Volume) in FeatureReader:"
   ]
  },
  {
   "cell_type": "code",
   "execution_count": 29,
   "metadata": {
    "collapsed": false
   },
   "outputs": [
    {
     "name": "stdout",
     "output_type": "stream",
     "text": [
      "URL: http://hdl.handle.net/2027/chi.50170373 Year: 1835 Page count: 856 \n",
      "URL: http://hdl.handle.net/2027/njp.32101076476215 Year: 1905 Page count: 544 \n",
      "URL: http://hdl.handle.net/2027/uc1.$c225189 Year: 1876 Page count: 1040 \n",
      "URL: http://hdl.handle.net/2027/uiuo.ark:/13960/t7sn1rk4f Year: 9999 Page count: 1498 \n",
      "URL: http://hdl.handle.net/2027/uva.x030515678 Year: 9999 Page count: 686 \n"
     ]
    }
   ],
   "source": [
    "#show the HT URL, year, and page count for each volume\n",
    "for vol in fr.volumes():\n",
    "    print(\"URL: %s Year: %s Page count: %s \" % (vol.handle_url, vol.year, vol.page_count))"
   ]
  },
  {
   "cell_type": "code",
   "execution_count": 31,
   "metadata": {
    "collapsed": false
   },
   "outputs": [
    {
     "name": "stdout",
     "output_type": "stream",
     "text": [
      "Source institution: CHI \n",
      "Source institution: NJP \n",
      "Source institution: UC \n",
      "Source institution: UIU \n",
      "Source institution: UVA \n"
     ]
    }
   ],
   "source": [
    "#where were these volumes scanned?\n",
    "for vol in fr.volumes():\n",
    "    print(\"Source institution: %s \" % (vol.source_institution))"
   ]
  },
  {
   "cell_type": "code",
   "execution_count": 43,
   "metadata": {
    "collapsed": false
   },
   "outputs": [
    {
     "data": {
      "text/html": [
       "<div>\n",
       "<table border=\"1\" class=\"dataframe\">\n",
       "  <thead>\n",
       "    <tr style=\"text-align: right;\">\n",
       "      <th></th>\n",
       "      <th>count</th>\n",
       "    </tr>\n",
       "    <tr>\n",
       "      <th>page</th>\n",
       "      <th></th>\n",
       "    </tr>\n",
       "  </thead>\n",
       "  <tbody>\n",
       "    <tr>\n",
       "      <th>1</th>\n",
       "      <td>15</td>\n",
       "    </tr>\n",
       "    <tr>\n",
       "      <th>2</th>\n",
       "      <td>60</td>\n",
       "    </tr>\n",
       "    <tr>\n",
       "      <th>3</th>\n",
       "      <td>0</td>\n",
       "    </tr>\n",
       "    <tr>\n",
       "      <th>4</th>\n",
       "      <td>4</td>\n",
       "    </tr>\n",
       "    <tr>\n",
       "      <th>5</th>\n",
       "      <td>0</td>\n",
       "    </tr>\n",
       "  </tbody>\n",
       "</table>\n",
       "</div>"
      ],
      "text/plain": [
       "      count\n",
       "page       \n",
       "1        15\n",
       "2        60\n",
       "3         0\n",
       "4         4\n",
       "5         0"
      ]
     },
     "execution_count": 43,
     "metadata": {},
     "output_type": "execute_result"
    }
   ],
   "source": [
    "vol = fr.first()\n",
    "tokens = vol.tokens_per_page()\n",
    "# Show just the first few rows, so we can look at what it looks like\n",
    "tokens.head()"
   ]
  },
  {
   "cell_type": "code",
   "execution_count": 35,
   "metadata": {
    "collapsed": false
   },
   "outputs": [
    {
     "data": {
      "text/plain": [
       "<matplotlib.axes._subplots.AxesSubplot at 0x110e7b710>"
      ]
     },
     "execution_count": 35,
     "metadata": {},
     "output_type": "execute_result"
    },
    {
     "data": {
      "image/png": "[encoded data removed]",
      "text/plain": [
       "<matplotlib.figure.Figure at 0x141c8c0b8>"
      ]
     },
     "metadata": {},
     "output_type": "display_data"
    }
   ],
   "source": [
    "%matplotlib inline\n",
    "tokens.plot()"
   ]
  },
  {
   "cell_type": "markdown",
   "metadata": {},
   "source": [
    "Now let's look at some specific pages, using the [Page object in FeatureReader](http://htrc.github.io/htrc-feature-reader/htrc_features/feature_reader.m.html#htrc_features.feature_reader.Page)."
   ]
  },
  {
   "cell_type": "code",
   "execution_count": 52,
   "metadata": {
    "collapsed": false
   },
   "outputs": [
    {
     "name": "stdout",
     "output_type": "stream",
     "text": [
      "<page 00000300 of volume uva.x030515678>\n"
     ]
    }
   ],
   "source": [
    "i = 0\n",
    "for page in vol:\n",
    "    # Same as `for page in vol.pages()`\n",
    "    i += 1\n",
    "    if i >= 300:\n",
    "        break\n",
    "print(page)"
   ]
  },
  {
   "cell_type": "code",
   "execution_count": 53,
   "metadata": {
    "collapsed": false
   },
   "outputs": [
    {
     "name": "stdout",
     "output_type": "stream",
     "text": [
      "The body has 179 lines, 0 empty lines, and 32 sentences\n"
     ]
    }
   ],
   "source": [
    "print(\"The body has %s lines, %s empty lines, and %s sentences\" % (page.line_count(),\n",
    "                                                                   page.empty_line_count(),\n",
    "                                                                   page.sentence_count()))\n"
   ]
  },
  {
   "cell_type": "code",
   "execution_count": 54,
   "metadata": {
    "collapsed": false
   },
   "outputs": [
    {
     "name": "stdout",
     "output_type": "stream",
     "text": [
      "                                   count\n",
      "page section token          pos         \n",
      "300  body    \"              ``         1\n",
      "             &              CC         1\n",
      "             '              ''         1\n",
      "                            POS        3\n",
      "             '-Hi\"          JJ         1\n",
      "             's             POS        2\n",
      "             'stdration     .          1\n",
      "             (              -LRB-     13\n",
      "             )              -RRB-     12\n",
      "             ,              ,        180\n",
      "             ,,T,....       NNP        1\n",
      "             ,...           NNP        1\n",
      "             ,...}.         ,          1\n",
      "             ,Georgetown    NNP        1\n",
      "             ,supplementary NNP        1\n",
      "             -              :          3\n",
      "             .              .         32\n",
      "             ..             CC         1\n",
      "             ...            :          2\n",
      "             ......         :          2\n"
     ]
    }
   ],
   "source": [
    "#look at the first 20 tokens on the page\n",
    "print(page.tokenlist()[:20])"
   ]
  },
  {
   "cell_type": "code",
   "execution_count": 55,
   "metadata": {
    "collapsed": false
   },
   "outputs": [
    {
     "name": "stdout",
     "output_type": "stream",
     "text": [
      "                            count\n",
      "page section lowercase           \n",
      "300  header  298                1\n",
      "             congressional      1\n",
      "             index              1\n",
      "             page               1\n",
      "             record.            1\n",
      "             the                1\n",
      "             to                 1\n"
     ]
    }
   ],
   "source": [
    "df = page.tokenlist(section=\"header\", case=False, pos=False)\n",
    "print(df)"
   ]
  },
  {
   "cell_type": "code",
   "execution_count": 56,
   "metadata": {
    "collapsed": false
   },
   "outputs": [
    {
     "name": "stdout",
     "output_type": "stream",
     "text": [
      "                             count\n",
      "page section token      pos       \n",
      "300  body    A.         NN       2\n",
      "             Government NN       1\n",
      "             Mead       NN       1\n",
      "With index reset: \n",
      "   page section       token pos  count\n",
      "0   300    body          A.  NN      2\n",
      "1   300    body  Government  NN      1\n"
     ]
    }
   ],
   "source": [
    "df = page.tokenlist()\n",
    "# Slicing on Multiindex: get all Signular or Mass Nouns (NN)\n",
    "idx = pd.IndexSlice\n",
    "nouns = df.loc[idx[:,:,:,'NN'],]\n",
    "print(nouns[:3])\n",
    "print(\"With index reset: \")\n",
    "print(nouns.reset_index()[:2])"
   ]
  },
  {
   "cell_type": "code",
   "execution_count": null,
   "metadata": {
    "collapsed": false
   },
   "outputs": [],
   "source": [
    "all_vol_token_counts = vol.tokenlist(pos=False, case=False)\n",
    "print(all_vol_token_counts.loc[idx[:,'body', 'she'],][:3])"
   ]
  },
  {
   "cell_type": "code",
   "execution_count": 49,
   "metadata": {
    "collapsed": false
   },
   "outputs": [
    {
     "name": "stdout",
     "output_type": "stream",
     "text": [
      "token  the  and  is  he  she\n",
      "page                        \n",
      "10       1    1   0   1    0\n",
      "11       1    1   0   0    0\n",
      "12       1    1   0   0    0\n",
      "13       1    1   1   0    0\n",
      "14       1    1   0   0    0\n",
      "15       1    1   0   0    0\n",
      "token  the  and  is  he  she\n",
      "page                        \n",
      "10     134   22   0   1    0\n",
      "11      93   19   0   0    0\n",
      "12     124    9   0   0    0\n",
      "13     114   24   1   0    0\n",
      "14     100   19   0   0    0\n",
      "15      78   11   0   0    0\n"
     ]
    }
   ],
   "source": [
    "a = vol.term_page_freqs()\n",
    "print(a.loc[10:15,['the','and','is','he', 'she']])\n",
    "a = vol.term_page_freqs(page_freq=False)\n",
    "print(a.loc[10:15,['the','and','is', 'he', 'she']])"
   ]
  },
  {
   "cell_type": "code",
   "execution_count": null,
   "metadata": {
    "collapsed": true
   },
   "outputs": [],
   "source": []
  }
 ],
 "metadata": {
  "kernelspec": {
   "display_name": "Python 3",
   "language": "python",
   "name": "python3"
  },
  "language_info": {
   "codemirror_mode": {
    "name": "ipython",
    "version": 3
   },
   "file_extension": ".py",
   "mimetype": "text/x-python",
   "name": "python",
   "nbconvert_exporter": "python",
   "pygments_lexer": "ipython3",
   "version": "3.5.2"
  }
 },
 "nbformat": 4,
 "nbformat_minor": 0
}
